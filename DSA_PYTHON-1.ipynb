{
 "cells": [
  {
   "cell_type": "code",
   "execution_count": 4,
   "id": "d9aa8cd7-d175-4b21-948d-de7a177f133e",
   "metadata": {},
   "outputs": [
    {
     "name": "stdout",
     "output_type": "stream",
     "text": [
      "htanujnaM\n"
     ]
    }
   ],
   "source": [
    "# Write a code to reverse a String\n",
    "str=\"Manjunath\"\n",
    "print(str[::-1])\n",
    "\n",
    "# we can also write like this \n",
    "'''str=\"Manjunath\"\n",
    "print(str[-1::-1])'''\n"
   ]
  },
  {
   "cell_type": "code",
   "execution_count": 1,
   "id": "277fb64e-df97-472c-bf0d-260803daa9f7",
   "metadata": {},
   "outputs": [
    {
     "name": "stdout",
     "output_type": "stream",
     "text": [
      "6\n"
     ]
    }
   ],
   "source": [
    "# Write code to count the nuuber of vowels in a string\n",
    "str=\"manjunath Jarathi\"\n",
    "vowels=\"aeiou\"\n",
    "cnt=0\n",
    "for char in str:\n",
    "    if char in vowels:\n",
    "        cnt=cnt+1\n",
    "print(cnt)        "
   ]
  },
  {
   "cell_type": "code",
   "execution_count": 53,
   "id": "7a1e238b-fe8e-41a9-b346-30d6d2f0a61a",
   "metadata": {},
   "outputs": [
    {
     "name": "stdout",
     "output_type": "stream",
     "text": [
      "No given input is not a palindrome\n"
     ]
    }
   ],
   "source": [
    "# Write a code to check if a given string is a palindrome or not\n",
    "# It is based on user input\n",
    "string=\"Manjunath\"\n",
    "str=(string[::-1])\n",
    "if (string==str):\n",
    "    print(\"Yes given input is palindrome\")\n",
    "else:\n",
    "    print(\"No given input is not a palindrome\")\n",
    "       \n"
   ]
  },
  {
   "cell_type": "code",
   "execution_count": 52,
   "id": "01aa451a-c1b6-4108-b92e-5f3ddefd703e",
   "metadata": {},
   "outputs": [
    {
     "name": "stdout",
     "output_type": "stream",
     "text": [
      "Yes anagram\n"
     ]
    }
   ],
   "source": [
    "# Write a program to check whether given two strings are anagrams to each other or not\n",
    "input1 = \"akakak\"\n",
    "input2 = \"kakaka\"\n",
    "if(len(input1) == len(input2)) and (sorted(input1) == sorted(input2)):\n",
    "    print(\"Yes anagram\")      \n",
    "else:\n",
    "    print(\"Not Anagrams\")\n",
    "   "
   ]
  },
  {
   "cell_type": "code",
   "execution_count": 13,
   "id": "f04b3f89-412e-440a-943a-ba0b7265b9d1",
   "metadata": {},
   "outputs": [
    {
     "name": "stdout",
     "output_type": "stream",
     "text": [
      "Occurrences of 'ab' within 'ababababab':\n",
      "[0, 2, 4, 6, 8]\n"
     ]
    }
   ],
   "source": [
    "# Write a code to find all occurances of a given substring within another string.\n",
    "main_string = \"ababababab\"\n",
    "sub_string = \"ab\"\n",
    "\n",
    "occurrences = []\n",
    "start = 0\n",
    "while True:\n",
    "    start = main_string.find(sub_string, start)\n",
    "    if start == -1:\n",
    "        break\n",
    "    occurrences.append(start)\n",
    "    start += 1\n",
    "\n",
    "print(\"Occurrences of '{}' within '{}':\".format(sub_string, main_string))\n",
    "print(occurrences)\n"
   ]
  },
  {
   "cell_type": "code",
   "execution_count": 1,
   "id": "0a4f4985-1b44-4148-b225-452dc36226f2",
   "metadata": {},
   "outputs": [
    {
     "name": "stdout",
     "output_type": "stream",
     "text": [
      "Compressed string: a2b1c5a3\n"
     ]
    }
   ],
   "source": [
    "# Write a code to perform basic string compression using the counts of repeated characters\n",
    "input_str = \"aabcccccaaa\"\n",
    "compressed = \"\"\n",
    "count = 1\n",
    "for i in range(len(input_str)):\n",
    "    if i < len(input_str) - 1 and input_str[i] == input_str[i + 1]:\n",
    "        count += 1\n",
    "    else:\n",
    "        compressed += input_str[i] + str(count)\n",
    "        count = 1\n",
    "if len(compressed) < len(input_str):\n",
    "    print(\"Compressed string:\", compressed)\n",
    "else:\n",
    "    print(\"Original string:\", input_str)\n"
   ]
  },
  {
   "cell_type": "code",
   "execution_count": 2,
   "id": "e6511eda-925e-4941-8986-6950b33b94c0",
   "metadata": {},
   "outputs": [
    {
     "name": "stdout",
     "output_type": "stream",
     "text": [
      "The string does not have all unique characters.\n"
     ]
    }
   ],
   "source": [
    "#Write a code to perform if a string has all uniques characters\n",
    "str = \"Manjunath\"\n",
    "seen = set()\n",
    "for char in str:\n",
    "    if char in seen:\n",
    "        print(\"The string does not have all unique characters.\")\n",
    "        break\n",
    "    seen.add(char)\n",
    "else:\n",
    "    print(\"The string has all unique characters.\")\n"
   ]
  },
  {
   "cell_type": "code",
   "execution_count": 5,
   "id": "20fc9287-f78e-40f1-b9b2-d7045f4b5e60",
   "metadata": {},
   "outputs": [
    {
     "name": "stdout",
     "output_type": "stream",
     "text": [
      "MANJUNATH\n",
      "manjunath\n"
     ]
    }
   ],
   "source": [
    "# Write a code to covert string into uppercase or lowercase\n",
    "#To covert into uppercase\n",
    "str=\"manjunath\"\n",
    "print(str.upper())\n",
    "\n",
    "#Tocovert into lowercase\n",
    "str=\"MANJUNATH\"\n",
    "print(str.lower())\n"
   ]
  },
  {
   "cell_type": "code",
   "execution_count": 6,
   "id": "d2766a72-f63c-44cc-9c77-e038335652b7",
   "metadata": {},
   "outputs": [
    {
     "name": "stdout",
     "output_type": "stream",
     "text": [
      "9\n"
     ]
    }
   ],
   "source": [
    "#Write a code to write number of words in a length\n",
    "str=\"Manjunath\"\n",
    "print(len(str))"
   ]
  },
  {
   "cell_type": "code",
   "execution_count": 2,
   "id": "18f46c23-6a18-4d95-8bcb-440555491781",
   "metadata": {},
   "outputs": [
    {
     "name": "stdout",
     "output_type": "stream",
     "text": [
      "HelloWorld\n"
     ]
    }
   ],
   "source": [
    "# Write a program to concatinate two strings without + operator\n",
    "str1 = \"Hello\"\n",
    "str2 = \"World\"\n",
    "\n",
    "concatenated_string =\"\".join([str1, str2])\n",
    "print(concatenated_string)\n"
   ]
  },
  {
   "cell_type": "code",
   "execution_count": 8,
   "id": "0f44dcb3-1802-458a-ad72-b547c4c84c92",
   "metadata": {},
   "outputs": [
    {
     "name": "stdout",
     "output_type": "stream",
     "text": [
      "['Data Science', 'Support Er', 'Deveops Er']\n"
     ]
    }
   ],
   "source": [
    "# Write a code to remove all occurances of a specific elements from a list\n",
    "list=[\"SDE\",\"Data Science\",\"SDE\",\"Support Er\",\"Deveops Er\", \"SDE\"]  \n",
    "for SDE in list:\n",
    "    list.remove(\"SDE\")\n",
    "print(list)    "
   ]
  },
  {
   "cell_type": "code",
   "execution_count": 18,
   "id": "ff3bbb0a-7667-471e-a932-7b266515da31",
   "metadata": {},
   "outputs": [
    {
     "name": "stdout",
     "output_type": "stream",
     "text": [
      "66\n"
     ]
    }
   ],
   "source": [
    "# Implement a code to find the second largest element in the list?\n",
    "list=[34,54,63,21,34,5,66,232,2]\n",
    "list2=sorted(list)\n",
    "print(list2[-2])"
   ]
  },
  {
   "cell_type": "code",
   "execution_count": 20,
   "id": "bd619f92-f7f1-457d-a94b-6a7744fd3642",
   "metadata": {},
   "outputs": [
    {
     "name": "stdout",
     "output_type": "stream",
     "text": [
      "{1: 3, 2: 7, 3: 1, 4: 1, 5: 15, 6: 1, 7: 1, 8: 1}\n"
     ]
    }
   ],
   "source": [
    "# Create a code to count the occurances of each element in a list and return a dictionary with elements as keys an their counts as values?\n",
    "list=[1,1,2,2,2,3,4,5,5,5,5,6,7,8]\n",
    "dict={}\n",
    "for el in list:\n",
    "    if el in dict:\n",
    "        dict[el]+=dict[el]+1\n",
    "    else:\n",
    "        dict[el]=1\n",
    "print(dict)        \n"
   ]
  },
  {
   "cell_type": "code",
   "execution_count": 24,
   "id": "cc125b77-fcd5-4b5c-aaf6-3a94ffb7b06b",
   "metadata": {},
   "outputs": [
    {
     "name": "stdout",
     "output_type": "stream",
     "text": [
      "[5, 4, 3, 2, 1]\n"
     ]
    }
   ],
   "source": [
    "# Write a code to reverse a list in place without using built in reverse function?\n",
    "list=[1,2,3,4,5]\n",
    "list2=[]\n",
    "for i in list[-1::-1]:\n",
    "    list2.append(i)\n",
    "print (list2)   "
   ]
  },
  {
   "cell_type": "code",
   "execution_count": 33,
   "id": "c507e418-e4d7-4b39-922a-b3dcfe6675a2",
   "metadata": {},
   "outputs": [
    {
     "name": "stdout",
     "output_type": "stream",
     "text": [
      "[1, 2, 3, 4, 5, 6, 7, 8, 9]\n"
     ]
    }
   ],
   "source": [
    "# Implement a code to find and remove duplicates from a list while preserving the orginal order of elements\n",
    "list=[1,2,2,2,3,4,5,6,7,8,9]\n",
    "newlist=[]\n",
    "for el in list:\n",
    "    if el not in newlist:\n",
    "        newlist.append(el)\n",
    "print(newlist)        \n"
   ]
  },
  {
   "cell_type": "code",
   "execution_count": 51,
   "id": "c5d82f04-5abb-4f04-a4b1-ed00490c2038",
   "metadata": {},
   "outputs": [
    {
     "name": "stdout",
     "output_type": "stream",
     "text": [
      "No the given list is not in sorted order\n"
     ]
    }
   ],
   "source": [
    "# Check if given list is sorted or not (either in ascending or descending)\n",
    "\n",
    "list=[2,3,4,5,1,0,9,8]\n",
    "list2=sorted(list)\n",
    "list3=sorted(list, reverse=True)\n",
    "if list==list2 or list==list3:\n",
    "    print(\"Yes the given list is in reverse order\")\n",
    "else:\n",
    "    print(\"No the given list is not in sorted order\")\n"
   ]
  },
  {
   "cell_type": "code",
   "execution_count": 2,
   "id": "f4ad39bc-df7b-40a1-8fc9-a4273b49c05e",
   "metadata": {},
   "outputs": [
    {
     "name": "stdout",
     "output_type": "stream",
     "text": [
      "Merged Sorted List: [1, 2, 3, 4, 5, 6, 7, 8, 9, 10]\n"
     ]
    }
   ],
   "source": [
    "# Write a code to merge two sorted lists into a single sorted list\n",
    "list1 = [1, 3, 5, 7, 9]\n",
    "list2 = [2, 4, 6, 8, 10]\n",
    "merged_list = []\n",
    "\n",
    "i, j = 0, 0\n",
    "\n",
    "while i < len(list1) and j < len(list2):\n",
    "    if list1[i] < list2[j]:\n",
    "        merged_list.append(list1[i])\n",
    "        i += 1\n",
    "    else:\n",
    "        merged_list.append(list2[j])\n",
    "        j += 1\n",
    "while i < len(list1):\n",
    "    merged_list.append(list1[i])\n",
    "    i += 1\n",
    "while j < len(list2):\n",
    "    merged_list.append(list2[j])\n",
    "    j += 1\n",
    "\n",
    "print(\"Merged Sorted List:\", merged_list)\n",
    "  \n",
    "    \n",
    "    \n",
    "        \n",
    "    "
   ]
  },
  {
   "cell_type": "code",
   "execution_count": 2,
   "id": "d01c631d-acca-4379-a7f7-3b486b5998bc",
   "metadata": {},
   "outputs": [
    {
     "name": "stdout",
     "output_type": "stream",
     "text": [
      "[2, 3, 4]\n"
     ]
    }
   ],
   "source": [
    "# Implement the code to find the intersection of two given lists\n",
    "list1=[1,2,3,4,5]\n",
    "list2=[2,3,4,6,7,8]\n",
    "intersection=[value for value in list1 if value in list2]\n",
    "print(intersection)"
   ]
  },
  {
   "cell_type": "code",
   "execution_count": 4,
   "id": "e2bcfcbd-d890-4cf3-90a0-887779162d9d",
   "metadata": {},
   "outputs": [
    {
     "name": "stdout",
     "output_type": "stream",
     "text": [
      "[2, 3, 4, 5]\n"
     ]
    }
   ],
   "source": [
    "#another method to do intersection\n",
    "list1=[1,2,3,4,5]\n",
    "list2=[2,3,4,5,6]\n",
    "inter=[]\n",
    "for i in list1:\n",
    "    for j in list2:\n",
    "        if i==j:\n",
    "            inter.append(i)\n",
    "print(inter)            \n",
    "            \n",
    "        "
   ]
  },
  {
   "cell_type": "code",
   "execution_count": 6,
   "id": "8d17ce66-25a1-4251-9ac9-bf301862d8dc",
   "metadata": {},
   "outputs": [
    {
     "name": "stdout",
     "output_type": "stream",
     "text": [
      "[1, 2, 3, 4, 6, 7, 8, 9]\n"
     ]
    }
   ],
   "source": [
    "# Write a code to find union of two lists without duplicates?\n",
    "\n",
    "list1=[1,2,3,4]\n",
    "list2=[4,3,6,7,8,9]\n",
    "union=list(set(list1+list2))\n",
    "print(union)\n",
    "\n"
   ]
  },
  {
   "cell_type": "code",
   "execution_count": 7,
   "id": "96464ae5-13d6-45fb-abd3-476c61c0f1aa",
   "metadata": {},
   "outputs": [
    {
     "name": "stdout",
     "output_type": "stream",
     "text": [
      "[1, 2, 3, 4, 5]\n"
     ]
    }
   ],
   "source": [
    "# Another method for union\n",
    "list1=[1,2,3,4,5]\n",
    "list2=[6,4,5,7,9,7]\n",
    "union=[]\n",
    "for i in list1:\n",
    "    if i not in union:\n",
    "        union.append(i)\n",
    "for j in list2:\n",
    "    if j not in list2:\n",
    "        union.append(j)\n",
    "print(union)        "
   ]
  },
  {
   "cell_type": "code",
   "execution_count": 8,
   "id": "7c7f335b-07e7-4648-8f89-b38a076803be",
   "metadata": {},
   "outputs": [
    {
     "name": "stdout",
     "output_type": "stream",
     "text": [
      "Original list: [1, 2, 3, 4, 5]\n",
      "Shuffled list: [2, 1, 5, 4, 3]\n"
     ]
    }
   ],
   "source": [
    "# Write a code to shuffle a given list randomly without using any built in shuffle functions?\n",
    "\n",
    "import random\n",
    "my_list = [1, 2, 3, 4, 5]\n",
    "print(\"Original list:\", my_list)\n",
    "for i in range(len(my_list) - 1, 0, -1):\n",
    "    j = random.randint(0, i)\n",
    "    my_list[i], my_list[j] = my_list[j], my_list[i]\n",
    "\n",
    "print(\"Shuffled list:\", my_list)\n"
   ]
  },
  {
   "cell_type": "code",
   "execution_count": 13,
   "id": "2bd93a18-5788-4e69-bacd-08b3a5c6d47e",
   "metadata": {},
   "outputs": [
    {
     "name": "stdin",
     "output_type": "stream",
     "text": [
      "Enter the 1st tuple input:  1,2,3,4,5\n",
      "Enter the 2nd tuple input:  6,7,8,5,3,2\n"
     ]
    },
    {
     "name": "stdout",
     "output_type": "stream",
     "text": [
      "New tuple containing common elements: ('5', '3', '2')\n"
     ]
    }
   ],
   "source": [
    "# Write a code that takes two tuples as input and returns a new tuple containing elements that are common to both inout tuples.\n",
    "\n",
    "input1 = input(\"Enter the 1st tuple input: \")\n",
    "input2 = input(\"Enter the 2nd tuple input: \")\n",
    "elements1 = input1.split(',')\n",
    "elements2 = input2.split(',')\n",
    "\n",
    "mytup1 = tuple(elements1)\n",
    "mytup2 = tuple(elements2)\n",
    "\n",
    "set1 = set(mytup1)\n",
    "common_elements = []\n",
    "\n",
    "for elem in mytup2:\n",
    "\n",
    "    if elem in set1:\n",
    "        common_elements.append(elem)\n",
    "\n",
    "newtuple = tuple(common_elements)\n",
    "print(\"New tuple containing common elements:\", newtuple)\n",
    "\n"
   ]
  },
  {
   "cell_type": "code",
   "execution_count": 5,
   "id": "9a637376-930b-4939-a993-e2c94ea57137",
   "metadata": {},
   "outputs": [
    {
     "name": "stdin",
     "output_type": "stream",
     "text": [
      "Provide 1st input: 1 2 2 3 4 5\n",
      "Provide 2nd input: 2 23 4 5 6 4\n"
     ]
    },
    {
     "name": "stdout",
     "output_type": "stream",
     "text": [
      "The intersection between two sets is: {'2', '5', '4'}\n"
     ]
    }
   ],
   "source": [
    "# Create the code that prompts the user to enter two sets of integers seperated by commas. Then print the intersection of these two sets\n",
    "input1=input('Provide 1st input:')\n",
    "input2=input('Provide 2nd input:')\n",
    "elm1=input1.split()\n",
    "elm2=input2.split()\n",
    "set1=set(elm1)\n",
    "set2=set(elm2)\n",
    "intersection=set1.intersection(set2)\n",
    "print(\"The intersection between two sets is:\",intersection)"
   ]
  },
  {
   "cell_type": "code",
   "execution_count": 9,
   "id": "b5f0dfcd-a306-4330-be7b-017cc34ff27a",
   "metadata": {},
   "outputs": [
    {
     "name": "stdin",
     "output_type": "stream",
     "text": [
      "Enter the first input: 1 2 3 4 5\n",
      "Enter the second input: 6 7 8 9\n"
     ]
    },
    {
     "name": "stdout",
     "output_type": "stream",
     "text": [
      "('1', '2', '3', '4', '5', '6', '7', '8', '9')\n"
     ]
    }
   ],
   "source": [
    "# Write a code to concatenate two tuples. The function should take two inputs as input and return a new tuple containing elements from both input tuples?\n",
    "inp1= input(\"Enter the first input:\")\n",
    "inp2= input(\"Enter the second input:\")\n",
    "elm1=inp1.split()\n",
    "elm2=inp2.split()\n",
    "tuple1=tuple(elm1)\n",
    "tuple2=tuple(elm2)\n",
    "concatenate_output=tuple(tuple1+tuple2)\n",
    "print(concatenate_output)"
   ]
  },
  {
   "cell_type": "code",
   "execution_count": 16,
   "id": "e5f8adb3-cd75-41af-985f-dd811a0afe54",
   "metadata": {},
   "outputs": [
    {
     "name": "stdin",
     "output_type": "stream",
     "text": [
      "Enter the First input: Manjunath\n",
      "Enter the Second input: Jarathi\n"
     ]
    },
    {
     "name": "stdout",
     "output_type": "stream",
     "text": [
      "{'Manjunath'}\n"
     ]
    }
   ],
   "source": [
    "# Develop the code that prompts the user to input two strings. Then print the elements that are present in the first set but not in second set?\n",
    "inp1=input(\"Enter the First input:\")\n",
    "inp2=input(\"Enter the Second input:\")\n",
    "elm1=inp1.split()\n",
    "elm2=inp2.split()\n",
    "string1=set(elm1)\n",
    "string2-set(elm2)\n",
    "difference = string1-string2\n",
    "print(difference)"
   ]
  },
  {
   "cell_type": "code",
   "execution_count": 17,
   "id": "1bd47f76-d0b3-4980-8697-8a6a1763fb54",
   "metadata": {},
   "outputs": [
    {
     "name": "stdout",
     "output_type": "stream",
     "text": [
      "(3, 4, 5, 6)\n"
     ]
    }
   ],
   "source": [
    "# Create a code that takes a tuple and two integers as input. The function should return a new tuple contains elements from orginal tuple within the specified range of indices\n",
    "def slice_tuple(input_tuple, start_idx, end_idx):\n",
    "    if start_idx < 0 or end_idx >= len(input_tuple) or start_idx > end_idx:\n",
    "        raise ValueError(\"Invalid start or end index\")\n",
    "\n",
    "    sliced_tuple = input_tuple[start_idx:end_idx+1]\n",
    "\n",
    "    return tuple(sliced_tuple)\n",
    "original_tuple = (1, 2, 3, 4, 5, 6, 7)\n",
    "start_index = 2\n",
    "end_index = 5\n",
    "\n",
    "result_tuple = slice_tuple(original_tuple, start_index, end_index)\n",
    "print(result_tuple) \n"
   ]
  },
  {
   "cell_type": "code",
   "execution_count": 20,
   "id": "61a85acc-ccdd-4149-b14d-e8e3f59c9f49",
   "metadata": {},
   "outputs": [
    {
     "name": "stdin",
     "output_type": "stream",
     "text": [
      "Enter the input 1:  manju\n",
      "Enter the input 2:  nath\n"
     ]
    },
    {
     "name": "stdout",
     "output_type": "stream",
     "text": [
      "Union of the two sets while preserving order: ['m', 'a', 'n', 'j', 'u', 't', 'h']\n"
     ]
    }
   ],
   "source": [
    "# Write a code that prompts the user to input two sets of characters. Then print the union of two sets\n",
    "from collections import OrderedDict\n",
    "\n",
    "# Prompt the user to input two sets of characters\n",
    "inp1 = input(\"Enter the input 1: \")\n",
    "inp2 = input(\"Enter the input 2: \")\n",
    "\n",
    "# Use OrderedDict to preserve the order of characters\n",
    "ordered_dict = OrderedDict.fromkeys(inp1 + inp2)\n",
    "\n",
    "# Extract characters in order and create a list (or set for unique characters)\n",
    "union_list = list(ordered_dict.keys())  # Convert OrderedDict keys to a list\n",
    "\n",
    "# Print the resulting union list (maintains order)\n",
    "print(\"Union of the two sets while preserving order:\", union_list)\n"
   ]
  },
  {
   "cell_type": "code",
   "execution_count": 24,
   "id": "0827db01-82b2-4552-a2ba-e5016cd2634e",
   "metadata": {},
   "outputs": [
    {
     "name": "stdin",
     "output_type": "stream",
     "text": [
      "Enter the tuple elements separated by spaces:  Man\n",
      "Enter the element to count occurrences:  k\n"
     ]
    },
    {
     "name": "stdout",
     "output_type": "stream",
     "text": [
      "Number of occurrences of 'k' in the tuple: 0\n"
     ]
    }
   ],
   "source": [
    "# Write a code that takes tuple and element as input. The function should return the count of occurances of the given elements in tuple\n",
    "inp1 = input(\"Enter the tuple elements separated by spaces: \")\n",
    "elements = inp1.split() \n",
    "input_tuple = tuple(elements)  \n",
    "\n",
    "inp2 = input(\"Enter the element to count occurrences: \")\n",
    "\n",
    "count = 0\n",
    "for item in input_tuple:\n",
    "    if item == inp2:\n",
    "        count += 1\n",
    "print(f\"Number of occurrences of '{inp2}' in the tuple: {count}\")\n",
    " \n",
    "    \n",
    "\n"
   ]
  },
  {
   "cell_type": "code",
   "execution_count": 2,
   "id": "5cb0caa5-2c13-4016-9c19-72ad74fa2ed7",
   "metadata": {},
   "outputs": [
    {
     "name": "stdin",
     "output_type": "stream",
     "text": [
      "Enter a text:  manjunath manjunath manjunath\n"
     ]
    },
    {
     "name": "stdout",
     "output_type": "stream",
     "text": [
      "\n",
      "Word Frequency Dictionary:\n",
      "manjunath: 3\n"
     ]
    }
   ],
   "source": [
    "# Develop the code tht propmpts the user to input and returns a dictionary where the keys are unique words and the values are the frequencies of those words in the input list.\n",
    "\n",
    "input_text = input(\"Enter a text: \")\n",
    "\n",
    "words = input_text.split()\n",
    "word_frequency = {}\n",
    "\n",
    "for word in words:\n",
    "    word = word.strip('.,?!;:\"()')\n",
    "    word = word.lower()\n",
    "    if word:\n",
    "        if word in word_frequency:\n",
    "            word_frequency[word] += 1\n",
    "        else:\n",
    "            word_frequency[word] = 1\n",
    "print(\"\\nWord Frequency Dictionary:\")\n",
    "for word, frequency in word_frequency.items():\n",
    "    print(f\"{word}: {frequency}\")\n"
   ]
  },
  {
   "cell_type": "code",
   "execution_count": 3,
   "id": "c6e7189b-6d68-4e91-8371-294ba314f316",
   "metadata": {},
   "outputs": [
    {
     "name": "stdout",
     "output_type": "stream",
     "text": [
      "Merged Dictionary:\n",
      "{'a': 10, 'b': 25, 'c': 45, 'd': 25}\n"
     ]
    }
   ],
   "source": [
    "# Write a code that takes two dictionaries as input and merges them into a single dictionar. If there are common keys, the vales should be added together\n",
    "dict1 = {'a': 10, 'b': 20, 'c': 30}\n",
    "dict2 = {'b': 5, 'c': 15, 'd': 25}\n",
    "\n",
    "merged_dict = {}\n",
    "for key, value in dict1.items():\n",
    "    if key in merged_dict:\n",
    "        merged_dict[key] += value\n",
    "    else:\n",
    "        merged_dict[key] = value\n",
    "for key, value in dict2.items():\n",
    "    if key in merged_dict:\n",
    "        merged_dict[key] += value\n",
    "    else:\n",
    "        merged_dict[key] = value\n",
    "print(\"Merged Dictionary:\")\n",
    "print(merged_dict)\n"
   ]
  },
  {
   "cell_type": "code",
   "execution_count": 4,
   "id": "ce546318-19f1-4e40-bb7d-735edc1ead2e",
   "metadata": {},
   "outputs": [
    {
     "name": "stdout",
     "output_type": "stream",
     "text": [
      "Accessed Value: 100\n"
     ]
    }
   ],
   "source": [
    "# Write a code to access a values in a nested dictionary. The function should take the dictionary and a list of keys as input, and return the corresponding value. If any of the keys do not exist in the dictionary, the functions should return None.\n",
    "\n",
    "nested_dict = {\n",
    "    'a': {\n",
    "        'b': {\n",
    "            'c': 100,\n",
    "            'd': 200\n",
    "        },\n",
    "        'e': {\n",
    "            'f': 300,\n",
    "            'g': 400\n",
    "        }\n",
    "    },\n",
    "    'h': {\n",
    "        'i': 500\n",
    "    }\n",
    "}\n",
    "keys_to_access = ['a', 'b', 'c']\n",
    "current_level = nested_dict\n",
    "for key in keys_to_access:\n",
    "    if isinstance(current_level, dict) and key in current_level:\n",
    "        current_level = current_level[key]\n",
    "    else:\n",
    "        current_level = None\n",
    "        break\n",
    "print(\"Accessed Value:\", current_level)\n"
   ]
  },
  {
   "cell_type": "code",
   "execution_count": 5,
   "id": "22c9a1fe-4c3b-4a8a-81cf-3b180df03248",
   "metadata": {},
   "outputs": [
    {
     "name": "stdout",
     "output_type": "stream",
     "text": [
      "Sorted Dictionary (Descending Order):\n",
      "orange: 50\n",
      "apple: 30\n",
      "banana: 20\n",
      "grape: 10\n"
     ]
    }
   ],
   "source": [
    "# Write a code that takes a dictionary as input and returns a sorted version of it based on the values. You can choose whether to sort in ascending or descending order\n",
    "input_dict = {'apple': 30, 'banana': 20, 'orange': 50, 'grape': 10}\n",
    "\n",
    "sorted_dict = dict(sorted(input_dict.items(), key=lambda item: item[1], reverse=True))\n",
    "\n",
    "print(\"Sorted Dictionary (Descending Order):\")\n",
    "for key, value in sorted_dict.items():\n",
    "    print(f\"{key}: {value}\")\n"
   ]
  },
  {
   "cell_type": "code",
   "execution_count": 6,
   "id": "08e0f393-9a50-450f-b01f-874930934543",
   "metadata": {},
   "outputs": [
    {
     "name": "stdout",
     "output_type": "stream",
     "text": [
      "Inverted Dictionary:\n",
      "30: ['apple', 'orange']\n",
      "20: ['banana', 'kiwi']\n",
      "10: ['grape']\n"
     ]
    }
   ],
   "source": [
    "# Write a code that inverts a dictionary, swapping keys and values. Ensures that the inverted dictionary correctly handles cases where multiple keys have the same value by sorting the keys as a list in the inverted dictionary.\n",
    "\n",
    "input_dict = {'apple': 30, 'banana': 20, 'orange': 30, 'grape': 10, 'kiwi': 20}\n",
    "\n",
    "inverted_dict = {}\n",
    "\n",
    "for key, value in input_dict.items():\n",
    "  \n",
    "    if value in inverted_dict:\n",
    "      \n",
    "        inverted_dict[value].append(key)\n",
    "        inverted_dict[value].sort()\n",
    "    else:\n",
    "\n",
    "        inverted_dict[value] = [key]\n",
    "print(\"Inverted Dictionary:\")\n",
    "for value, keys_list in inverted_dict.items():\n",
    "    print(f\"{value}: {keys_list}\")\n"
   ]
  },
  {
   "cell_type": "code",
   "execution_count": null,
   "id": "2d76cf8e-4334-4c1b-803e-e90c83979ab1",
   "metadata": {},
   "outputs": [],
   "source": []
  }
 ],
 "metadata": {
  "kernelspec": {
   "display_name": "Python 3 (ipykernel)",
   "language": "python",
   "name": "python3"
  },
  "language_info": {
   "codemirror_mode": {
    "name": "ipython",
    "version": 3
   },
   "file_extension": ".py",
   "mimetype": "text/x-python",
   "name": "python",
   "nbconvert_exporter": "python",
   "pygments_lexer": "ipython3",
   "version": "3.10.8"
  }
 },
 "nbformat": 4,
 "nbformat_minor": 5
}
